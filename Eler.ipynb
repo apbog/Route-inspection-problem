{
 "cells": [
  {
   "cell_type": "code",
   "execution_count": 32,
   "metadata": {},
   "outputs": [
    {
     "data": {
      "text/plain": [
       "[0, 1, 0, 2, 1, 0]"
      ]
     },
     "execution_count": 32,
     "metadata": {},
     "output_type": "execute_result"
    }
   ],
   "source": [
    "def find_eulerian_tour(graph):\n",
    "    stack = [];\n",
    "    tour = []\n",
    " \n",
    "    stack.append(graph[0][0])\n",
    " \n",
    "    while len(stack) > 0:\n",
    "        v = stack[len(stack) - 1]\n",
    " \n",
    "        degree = get_degree(v, graph)\n",
    " \n",
    "        if degree == 0:\n",
    "            stack.pop()\n",
    "            tour.append(v)\n",
    "        else:\n",
    "            index, edge = get_edge_and_index(v, graph)\n",
    "            graph.pop(index)\n",
    "            stack.append(edge[1] if v == edge[0] else edge[0])\n",
    "    return tour\n",
    " \n",
    " \n",
    "def get_degree(v, graph):\n",
    "    degree = 0\n",
    "    for (x, y) in graph:\n",
    "        if v == x or v == y:\n",
    "            degree += 1\n",
    " \n",
    "    return degree\n",
    " \n",
    " \n",
    "def get_edge_and_index(v, graph):\n",
    "    edge = ();\n",
    "    index = -1\n",
    " \n",
    "    for i in range(len(graph)):\n",
    "        if (v == graph[i][0] or v == graph[i][1]):\n",
    "            edge, index = graph[i], i\n",
    "            break\n",
    " \n",
    "    return index, edge\n",
    " \n",
    "#graph = [(0, 1), (1, 5), (1, 7), (4, 5),\n",
    "#(4, 8), (1, 6), (3, 7), (5, 9),\n",
    "#(2, 4), (0, 4), (2, 5), (3, 6), (8, 9)]\n",
    "\n",
    "graph = [(0, 1), (0, 2), (1, 2), (0, 1), (0, 1)]\n",
    "\n",
    "find_eulerian_tour(graph)"
   ]
  },
  {
   "cell_type": "code",
   "execution_count": 68,
   "metadata": {},
   "outputs": [],
   "source": [
    "di = {}\n",
    "di_nu = {}\n",
    "def Dijkstra(N, S, matrix):\n",
    "    valid = [True]*N        \n",
    "    weight = [1000000]*N\n",
    "    weight[S] = 0\n",
    "    for i in range(N):\n",
    "        min_weight = 1000001\n",
    "        ID_min_weight = -1\n",
    "        for i in range(len(weight)):\n",
    "            if valid[i] and weight[i] < min_weight:\n",
    "                min_weight = weight[i]\n",
    "                ID_min_weight = i\n",
    "        print(weight)\n",
    "        print(ID_min_weight)\n",
    "        for i in range(N):\n",
    "            #print(i)\n",
    "            if weight[ID_min_weight] + matrix[ID_min_weight][i] < weight[i]:\n",
    "                weight[i] = weight[ID_min_weight] + matrix[ID_min_weight][i]\n",
    "                print(str(ID_min_weight) + '->' + str(i))\n",
    "                ps = str(str(S) + ':' + str(i))\n",
    "                if S == ID_min_weight:\n",
    "                    di[ps] = str(ID_min_weight) + '->' + str(i)\n",
    "                    di_nu[ps] = [ID_min_weight,i]\n",
    "                else:\n",
    "                    ps2 = str(str(S) + ':' + str(ID_min_weight))\n",
    "                    di[ps] = str(di[ps2]) + ' ' + str(ID_min_weight) + '->' + str(i)\n",
    "                    di_nu[ps] = di_nu[ps2] + [i]\n",
    "        valid[ID_min_weight] = False\n",
    "    return weight\n",
    "\n",
    "#Dijkstra(n, s, m)"
   ]
  },
  {
   "cell_type": "code",
   "execution_count": 60,
   "metadata": {},
   "outputs": [
    {
     "data": {
      "text/plain": [
       "[(0, 1),\n",
       " (1, 2),\n",
       " (1, 3),\n",
       " (1, 4),\n",
       " (2, 5),\n",
       " (2, 6),\n",
       " (3, 4),\n",
       " (4, 9),\n",
       " (5, 6),\n",
       " (5, 9),\n",
       " (6, 9),\n",
       " (7, 8),\n",
       " (8, 9)]"
      ]
     },
     "execution_count": 60,
     "metadata": {},
     "output_type": "execute_result"
    }
   ],
   "source": [
    "#m = [[0, 1000000, 5],[9, 0 ,1],[1000000, 6, 0]]\n",
    "\n",
    "a = []\n",
    "\n",
    "for i in range(len(m)):\n",
    "    for j in range(len(m)):\n",
    "        if (m[i][j] > 0) & (m[i][j] < 1000000) & (i < j):\n",
    "            d = (i,j)\n",
    "            a.append(d)\n",
    "a"
   ]
  },
  {
   "cell_type": "code",
   "execution_count": 61,
   "metadata": {},
   "outputs": [
    {
     "data": {
      "text/plain": [
       "[1, 4, 3, 2, 3, 3, 3, 1, 2, 4]"
      ]
     },
     "execution_count": 61,
     "metadata": {},
     "output_type": "execute_result"
    }
   ],
   "source": [
    "b = [0]*len(m)\n",
    "for i in range(len(m)):\n",
    "    for j in range(len(m)):\n",
    "        if (m[i][j] > 0) & (m[i][j] < 1000000):\n",
    "            b[i] = b[i] + 1\n",
    "b            "
   ]
  },
  {
   "cell_type": "code",
   "execution_count": 62,
   "metadata": {},
   "outputs": [
    {
     "data": {
      "text/plain": [
       "[0, 2, 4, 5, 6, 7]"
      ]
     },
     "execution_count": 62,
     "metadata": {},
     "output_type": "execute_result"
    }
   ],
   "source": [
    "nech = []\n",
    "for i in range(len(b)):\n",
    "    if (b[i] == 0):\n",
    "        print(\"Несвязный граф\")\n",
    "    elif (b[i]%2 == 1):\n",
    "        nech.append(i)\n",
    "nech"
   ]
  },
  {
   "cell_type": "code",
   "execution_count": 56,
   "metadata": {},
   "outputs": [
    {
     "name": "stdout",
     "output_type": "stream",
     "text": [
      "[0, 1000000, 1000000, 1000000, 1000000, 1000000]\n",
      "0\n",
      "1\n",
      "0->1\n",
      "2\n",
      "0->2\n",
      "3\n",
      "4\n",
      "5\n",
      "[0, 1, 1, 1000000, 1000000, 1000000]\n",
      "0\n",
      "1\n",
      "2\n",
      "3\n",
      "4\n",
      "5\n",
      "[0, 1, 1, 1000000, 1000000, 1000000]\n",
      "0\n",
      "1\n",
      "2\n",
      "3\n",
      "2->3\n",
      "4\n",
      "2->4\n",
      "5\n",
      "2->5\n",
      "[0, 1, 1, 2, 2, 2]\n",
      "0\n",
      "1\n",
      "2\n",
      "3\n",
      "4\n",
      "5\n",
      "[0, 1, 1, 2, 2, 2]\n",
      "0\n",
      "1\n",
      "2\n",
      "3\n",
      "4\n",
      "5\n",
      "[0, 1, 1, 2, 2, 2]\n",
      "0\n",
      "1\n",
      "2\n",
      "3\n",
      "4\n",
      "5\n",
      "[0, 1, 1, 2, 2, 2]\n",
      "[0, 1000000, 1000000, 1000000, 1000000, 1000000]\n",
      "0\n",
      "1\n",
      "0->1\n",
      "2\n",
      "0->2\n",
      "3\n",
      "4\n",
      "5\n",
      "[0, 1, 1, 1000000, 1000000, 1000000]\n",
      "0\n",
      "1\n",
      "2\n",
      "3\n",
      "4\n",
      "5\n",
      "[0, 1, 1, 1000000, 1000000, 1000000]\n",
      "0\n",
      "1\n",
      "2\n",
      "3\n",
      "2->3\n",
      "4\n",
      "2->4\n",
      "5\n",
      "2->5\n",
      "[0, 1, 1, 2, 2, 2]\n",
      "0\n",
      "1\n",
      "2\n",
      "3\n",
      "4\n",
      "5\n",
      "[0, 1, 1, 2, 2, 2]\n",
      "0\n",
      "1\n",
      "2\n",
      "3\n",
      "4\n",
      "5\n",
      "[0, 1, 1, 2, 2, 2]\n",
      "0\n",
      "1\n",
      "2\n",
      "3\n",
      "4\n",
      "5\n",
      "[1000000, 0, 1000000, 1000000, 1000000, 1000000]\n",
      "0\n",
      "1->0\n",
      "1\n",
      "2\n",
      "1->2\n",
      "3\n",
      "4\n",
      "5\n",
      "[1, 0, 1, 1000000, 1000000, 1000000]\n",
      "0\n",
      "1\n",
      "2\n",
      "3\n",
      "4\n",
      "5\n",
      "[1, 0, 1, 1000000, 1000000, 1000000]\n",
      "0\n",
      "1\n",
      "2\n",
      "3\n",
      "2->3\n",
      "4\n",
      "2->4\n",
      "5\n",
      "2->5\n",
      "[1, 0, 1, 2, 2, 2]\n",
      "0\n",
      "1\n",
      "2\n",
      "3\n",
      "4\n",
      "5\n",
      "[1, 0, 1, 2, 2, 2]\n",
      "0\n",
      "1\n",
      "2\n",
      "3\n",
      "4\n",
      "5\n",
      "[1, 0, 1, 2, 2, 2]\n",
      "0\n",
      "1\n",
      "2\n",
      "3\n",
      "4\n",
      "5\n",
      "[1, 0, 1, 2, 2, 2]\n",
      "[1000000, 0, 1000000, 1000000, 1000000, 1000000]\n",
      "0\n",
      "1->0\n",
      "1\n",
      "2\n",
      "1->2\n",
      "3\n",
      "4\n",
      "5\n",
      "[1, 0, 1, 1000000, 1000000, 1000000]\n",
      "0\n",
      "1\n",
      "2\n",
      "3\n",
      "4\n",
      "5\n",
      "[1, 0, 1, 1000000, 1000000, 1000000]\n",
      "0\n",
      "1\n",
      "2\n",
      "3\n",
      "2->3\n",
      "4\n",
      "2->4\n",
      "5\n",
      "2->5\n",
      "[1, 0, 1, 2, 2, 2]\n",
      "0\n",
      "1\n",
      "2\n",
      "3\n",
      "4\n",
      "5\n",
      "[1, 0, 1, 2, 2, 2]\n",
      "0\n",
      "1\n",
      "2\n",
      "3\n",
      "4\n",
      "5\n",
      "[1, 0, 1, 2, 2, 2]\n",
      "0\n",
      "1\n",
      "2\n",
      "3\n",
      "4\n",
      "5\n",
      "[1000000, 1000000, 0, 1000000, 1000000, 1000000]\n",
      "0\n",
      "2->0\n",
      "1\n",
      "2->1\n",
      "2\n",
      "3\n",
      "2->3\n",
      "4\n",
      "2->4\n",
      "5\n",
      "2->5\n",
      "[1, 1, 0, 1, 1, 1]\n",
      "0\n",
      "1\n",
      "2\n",
      "3\n",
      "4\n",
      "5\n",
      "[1, 1, 0, 1, 1, 1]\n",
      "0\n",
      "1\n",
      "2\n",
      "3\n",
      "4\n",
      "5\n",
      "[1, 1, 0, 1, 1, 1]\n",
      "0\n",
      "1\n",
      "2\n",
      "3\n",
      "4\n",
      "5\n",
      "[1, 1, 0, 1, 1, 1]\n",
      "0\n",
      "1\n",
      "2\n",
      "3\n",
      "4\n",
      "5\n",
      "[1, 1, 0, 1, 1, 1]\n",
      "0\n",
      "1\n",
      "2\n",
      "3\n",
      "4\n",
      "5\n",
      "[1, 1, 0, 1, 1, 1]\n",
      "[1000000, 1000000, 0, 1000000, 1000000, 1000000]\n",
      "0\n",
      "2->0\n",
      "1\n",
      "2->1\n",
      "2\n",
      "3\n",
      "2->3\n",
      "4\n",
      "2->4\n",
      "5\n",
      "2->5\n",
      "[1, 1, 0, 1, 1, 1]\n",
      "0\n",
      "1\n",
      "2\n",
      "3\n",
      "4\n",
      "5\n",
      "[1, 1, 0, 1, 1, 1]\n",
      "0\n",
      "1\n",
      "2\n",
      "3\n",
      "4\n",
      "5\n",
      "[1, 1, 0, 1, 1, 1]\n",
      "0\n",
      "1\n",
      "2\n",
      "3\n",
      "4\n",
      "5\n",
      "[1, 1, 0, 1, 1, 1]\n",
      "0\n",
      "1\n",
      "2\n",
      "3\n",
      "4\n",
      "5\n",
      "[1, 1, 0, 1, 1, 1]\n",
      "0\n",
      "1\n",
      "2\n",
      "3\n",
      "4\n",
      "5\n",
      "[1000000, 1000000, 1000000, 0, 1000000, 1000000]\n",
      "0\n",
      "1\n",
      "2\n",
      "3->2\n",
      "3\n",
      "4\n",
      "5\n",
      "[1000000, 1000000, 1, 0, 1000000, 1000000]\n",
      "0\n",
      "2->0\n",
      "1\n",
      "2->1\n",
      "2\n",
      "3\n",
      "4\n",
      "2->4\n",
      "5\n",
      "2->5\n",
      "[2, 2, 1, 0, 2, 2]\n",
      "0\n",
      "1\n",
      "2\n",
      "3\n",
      "4\n",
      "5\n",
      "[2, 2, 1, 0, 2, 2]\n",
      "0\n",
      "1\n",
      "2\n",
      "3\n",
      "4\n",
      "5\n",
      "[2, 2, 1, 0, 2, 2]\n",
      "0\n",
      "1\n",
      "2\n",
      "3\n",
      "4\n",
      "5\n",
      "[2, 2, 1, 0, 2, 2]\n",
      "0\n",
      "1\n",
      "2\n",
      "3\n",
      "4\n",
      "5\n",
      "[2, 2, 1, 0, 2, 2]\n",
      "[1000000, 1000000, 1000000, 0, 1000000, 1000000]\n",
      "0\n",
      "1\n",
      "2\n",
      "3->2\n",
      "3\n",
      "4\n",
      "5\n",
      "[1000000, 1000000, 1, 0, 1000000, 1000000]\n",
      "0\n",
      "2->0\n",
      "1\n",
      "2->1\n",
      "2\n",
      "3\n",
      "4\n",
      "2->4\n",
      "5\n",
      "2->5\n",
      "[2, 2, 1, 0, 2, 2]\n",
      "0\n",
      "1\n",
      "2\n",
      "3\n",
      "4\n",
      "5\n",
      "[2, 2, 1, 0, 2, 2]\n",
      "0\n",
      "1\n",
      "2\n",
      "3\n",
      "4\n",
      "5\n",
      "[2, 2, 1, 0, 2, 2]\n",
      "0\n",
      "1\n",
      "2\n",
      "3\n",
      "4\n",
      "5\n",
      "[2, 2, 1, 0, 2, 2]\n",
      "0\n",
      "1\n",
      "2\n",
      "3\n",
      "4\n",
      "5\n",
      "[1000000, 1000000, 1000000, 1000000, 0, 1000000]\n",
      "0\n",
      "1\n",
      "2\n",
      "4->2\n",
      "3\n",
      "4\n",
      "5\n",
      "[1000000, 1000000, 1, 1000000, 0, 1000000]\n",
      "0\n",
      "2->0\n",
      "1\n",
      "2->1\n",
      "2\n",
      "3\n",
      "2->3\n",
      "4\n",
      "5\n",
      "2->5\n",
      "[2, 2, 1, 2, 0, 2]\n",
      "0\n",
      "1\n",
      "2\n",
      "3\n",
      "4\n",
      "5\n",
      "[2, 2, 1, 2, 0, 2]\n",
      "0\n",
      "1\n",
      "2\n",
      "3\n",
      "4\n",
      "5\n",
      "[2, 2, 1, 2, 0, 2]\n",
      "0\n",
      "1\n",
      "2\n",
      "3\n",
      "4\n",
      "5\n",
      "[2, 2, 1, 2, 0, 2]\n",
      "0\n",
      "1\n",
      "2\n",
      "3\n",
      "4\n",
      "5\n",
      "[2, 2, 1, 2, 0, 2]\n",
      "[1000000, 1000000, 1000000, 1000000, 0, 1000000]\n",
      "0\n",
      "1\n",
      "2\n",
      "4->2\n",
      "3\n",
      "4\n",
      "5\n",
      "[1000000, 1000000, 1, 1000000, 0, 1000000]\n",
      "0\n",
      "2->0\n",
      "1\n",
      "2->1\n",
      "2\n",
      "3\n",
      "2->3\n",
      "4\n",
      "5\n",
      "2->5\n",
      "[2, 2, 1, 2, 0, 2]\n",
      "0\n",
      "1\n",
      "2\n",
      "3\n",
      "4\n",
      "5\n",
      "[2, 2, 1, 2, 0, 2]\n",
      "0\n",
      "1\n",
      "2\n",
      "3\n",
      "4\n",
      "5\n",
      "[2, 2, 1, 2, 0, 2]\n",
      "0\n",
      "1\n",
      "2\n",
      "3\n",
      "4\n",
      "5\n",
      "[2, 2, 1, 2, 0, 2]\n",
      "0\n",
      "1\n",
      "2\n",
      "3\n",
      "4\n",
      "5\n",
      "[1000000, 1000000, 1000000, 1000000, 1000000, 0]\n",
      "0\n",
      "1\n",
      "2\n",
      "5->2\n",
      "3\n",
      "4\n",
      "5\n",
      "[1000000, 1000000, 1, 1000000, 1000000, 0]\n",
      "0\n",
      "2->0\n",
      "1\n",
      "2->1\n",
      "2\n",
      "3\n",
      "2->3\n",
      "4\n",
      "2->4\n",
      "5\n",
      "[2, 2, 1, 2, 2, 0]\n",
      "0\n",
      "1\n",
      "2\n",
      "3\n",
      "4\n",
      "5\n",
      "[2, 2, 1, 2, 2, 0]\n",
      "0\n",
      "1\n",
      "2\n",
      "3\n",
      "4\n",
      "5\n",
      "[2, 2, 1, 2, 2, 0]\n",
      "0\n",
      "1\n",
      "2\n",
      "3\n",
      "4\n",
      "5\n",
      "[2, 2, 1, 2, 2, 0]\n",
      "0\n",
      "1\n",
      "2\n",
      "3\n",
      "4\n",
      "5\n",
      "[2, 2, 1, 2, 2, 0]\n",
      "[1000000, 1000000, 1000000, 1000000, 1000000, 0]\n",
      "0\n",
      "1\n",
      "2\n",
      "5->2\n",
      "3\n",
      "4\n",
      "5\n",
      "[1000000, 1000000, 1, 1000000, 1000000, 0]\n",
      "0\n",
      "2->0\n",
      "1\n",
      "2->1\n",
      "2\n",
      "3\n",
      "2->3\n",
      "4\n",
      "2->4\n",
      "5\n",
      "[2, 2, 1, 2, 2, 0]\n",
      "0\n",
      "1\n",
      "2\n",
      "3\n",
      "4\n",
      "5\n",
      "[2, 2, 1, 2, 2, 0]\n",
      "0\n",
      "1\n",
      "2\n",
      "3\n",
      "4\n",
      "5\n",
      "[2, 2, 1, 2, 2, 0]\n",
      "0\n",
      "1\n",
      "2\n",
      "3\n",
      "4\n",
      "5\n",
      "[2, 2, 1, 2, 2, 0]\n",
      "0\n",
      "1\n",
      "2\n",
      "3\n",
      "4\n",
      "5\n"
     ]
    }
   ],
   "source": [
    "n = len(m)\n",
    "nech_m = []\n",
    "for x in range(len(m)):\n",
    "    print(Dijkstra(n, x, m))\n",
    "    nech_m.append(Dijkstra(n, x, m))"
   ]
  },
  {
   "cell_type": "code",
   "execution_count": 51,
   "metadata": {
    "collapsed": true
   },
   "outputs": [],
   "source": [
    "par = []\n",
    "\n",
    "for i in range(len(nech_m)):\n",
    "    vr = []\n",
    "    for j in range(len(nech_m)):\n",
    "        if (i in nech) and (j in nech):\n",
    "            vr.append(nech_m[i][j])\n",
    "    if vr != []:\n",
    "        par.append(vr)"
   ]
  },
  {
   "cell_type": "code",
   "execution_count": 52,
   "metadata": {
    "collapsed": true
   },
   "outputs": [],
   "source": [
    "for i in range(len(par)):\n",
    "    for j in range(len(par)):\n",
    "        if (par[i][j] == 0):\n",
    "            par[i][j] = 100000"
   ]
  },
  {
   "cell_type": "code",
   "execution_count": 53,
   "metadata": {},
   "outputs": [
    {
     "data": {
      "text/plain": [
       "[[100000, 1, 1, 1], [1, 100000, 2, 2], [1, 2, 100000, 2], [1, 2, 2, 100000]]"
      ]
     },
     "execution_count": 53,
     "metadata": {},
     "output_type": "execute_result"
    }
   ],
   "source": [
    "par"
   ]
  },
  {
   "cell_type": "code",
   "execution_count": null,
   "metadata": {
    "collapsed": true
   },
   "outputs": [],
   "source": [
    "01 23"
   ]
  },
  {
   "cell_type": "code",
   "execution_count": 25,
   "metadata": {},
   "outputs": [
    {
     "data": {
      "text/plain": [
       "{'0:1': [0, 1],\n",
       " '0:2': [0, 1, 2],\n",
       " '0:3': [0, 1, 3],\n",
       " '0:4': [0, 1, 4],\n",
       " '0:5': [0, 1, 2, 5],\n",
       " '0:6': [0, 1, 2, 6],\n",
       " '0:7': [0, 1, 2, 5, 9, 8, 7],\n",
       " '0:8': [0, 1, 2, 5, 9, 8],\n",
       " '0:9': [0, 1, 2, 5, 9],\n",
       " '1:0': [1, 0],\n",
       " '1:2': [1, 2],\n",
       " '1:3': [1, 3],\n",
       " '1:4': [1, 4],\n",
       " '1:5': [1, 2, 5],\n",
       " '1:6': [1, 2, 6],\n",
       " '1:7': [1, 2, 5, 9, 8, 7],\n",
       " '1:8': [1, 2, 5, 9, 8],\n",
       " '1:9': [1, 2, 5, 9],\n",
       " '2:0': [2, 1, 0],\n",
       " '2:1': [2, 1],\n",
       " '2:3': [2, 1, 3],\n",
       " '2:4': [2, 1, 4],\n",
       " '2:5': [2, 5],\n",
       " '2:6': [2, 6],\n",
       " '2:7': [2, 5, 9, 8, 7],\n",
       " '2:8': [2, 5, 9, 8],\n",
       " '2:9': [2, 5, 9],\n",
       " '3:0': [3, 1, 0],\n",
       " '3:1': [3, 1],\n",
       " '3:2': [3, 1, 2],\n",
       " '3:4': [3, 4],\n",
       " '3:5': [3, 1, 2, 5],\n",
       " '3:6': [3, 1, 2, 6],\n",
       " '3:7': [3, 4, 9, 8, 7],\n",
       " '3:8': [3, 4, 9, 8],\n",
       " '3:9': [3, 4, 9],\n",
       " '4:0': [4, 1, 0],\n",
       " '4:1': [4, 1],\n",
       " '4:2': [4, 1, 2],\n",
       " '4:3': [4, 3],\n",
       " '4:5': [4, 9, 5],\n",
       " '4:6': [4, 9, 6],\n",
       " '4:7': [4, 9, 8, 7],\n",
       " '4:8': [4, 9, 8],\n",
       " '4:9': [4, 9],\n",
       " '5:0': [5, 2, 1, 0],\n",
       " '5:1': [5, 2, 1],\n",
       " '5:2': [5, 2],\n",
       " '5:3': [5, 2, 1, 3],\n",
       " '5:4': [5, 9, 4],\n",
       " '5:6': [5, 6],\n",
       " '5:7': [5, 9, 8, 7],\n",
       " '5:8': [5, 9, 8],\n",
       " '5:9': [5, 9],\n",
       " '6:0': [6, 2, 1, 0],\n",
       " '6:1': [6, 2, 1],\n",
       " '6:2': [6, 2],\n",
       " '6:3': [6, 2, 1, 3],\n",
       " '6:4': [6, 9, 4],\n",
       " '6:5': [6, 5],\n",
       " '6:7': [6, 9, 8, 7],\n",
       " '6:8': [6, 9, 8],\n",
       " '6:9': [6, 9],\n",
       " '7:0': [7, 8, 9, 5, 2, 1, 0],\n",
       " '7:1': [7, 8, 9, 5, 2, 1],\n",
       " '7:2': [7, 8, 9, 5, 2],\n",
       " '7:3': [7, 8, 9, 4, 3],\n",
       " '7:4': [7, 8, 9, 4],\n",
       " '7:5': [7, 8, 9, 5],\n",
       " '7:6': [7, 8, 9, 6],\n",
       " '7:8': [7, 8],\n",
       " '7:9': [7, 8, 9],\n",
       " '8:0': [8, 9, 5, 2, 1, 0],\n",
       " '8:1': [8, 9, 5, 2, 1],\n",
       " '8:2': [8, 9, 5, 2],\n",
       " '8:3': [8, 9, 4, 3],\n",
       " '8:4': [8, 9, 4],\n",
       " '8:5': [8, 9, 5],\n",
       " '8:6': [8, 9, 6],\n",
       " '8:7': [8, 7],\n",
       " '8:9': [8, 9],\n",
       " '9:0': [9, 5, 2, 1, 0],\n",
       " '9:1': [9, 5, 2, 1],\n",
       " '9:2': [9, 5, 2],\n",
       " '9:3': [9, 4, 3],\n",
       " '9:4': [9, 4],\n",
       " '9:5': [9, 5],\n",
       " '9:6': [9, 6],\n",
       " '9:7': [9, 8, 7],\n",
       " '9:8': [9, 8]}"
      ]
     },
     "execution_count": 25,
     "metadata": {},
     "output_type": "execute_result"
    }
   ],
   "source": [
    "di_nu"
   ]
  },
  {
   "cell_type": "code",
   "execution_count": 58,
   "metadata": {
    "collapsed": true
   },
   "outputs": [],
   "source": [
    "di = {}\n",
    "di_nu = {}"
   ]
  },
  {
   "cell_type": "code",
   "execution_count": 24,
   "metadata": {
    "collapsed": true
   },
   "outputs": [],
   "source": [
    "indexes = [(0, 1), (1, 0), (2, 5), (3, 4), (4, 3), (5, 2)]"
   ]
  },
  {
   "cell_type": "code",
   "execution_count": 26,
   "metadata": {
    "collapsed": true
   },
   "outputs": [],
   "source": [
    "indexes2 = []\n",
    "for i,j in indexes:\n",
    "    if ((nech[i],nech[j]) not in indexes2) and ((nech[j],nech[i]) not in indexes2):\n",
    "        indexes2.append((nech[i],nech[j]))"
   ]
  },
  {
   "cell_type": "code",
   "execution_count": 27,
   "metadata": {},
   "outputs": [
    {
     "data": {
      "text/plain": [
       "[(0, 2), (4, 7), (5, 6)]"
      ]
     },
     "execution_count": 27,
     "metadata": {},
     "output_type": "execute_result"
    }
   ],
   "source": [
    "indexes2"
   ]
  },
  {
   "cell_type": "code",
   "execution_count": 28,
   "metadata": {
    "collapsed": true
   },
   "outputs": [],
   "source": [
    "b = []\n",
    "for k,l in indexes2:\n",
    "    \n",
    "    text = str(k) + \":\" + str(l)\n",
    "    for r in range(len(di_nu[text]) - 1):\n",
    "        b.append((di_nu[text][r],di_nu[text][r+1]))\n",
    "        "
   ]
  },
  {
   "cell_type": "code",
   "execution_count": 80,
   "metadata": {},
   "outputs": [
    {
     "data": {
      "text/plain": [
       "[(0, 2), (1, 3), (2, 3), (3, 4), (4, 5)]"
      ]
     },
     "execution_count": 80,
     "metadata": {},
     "output_type": "execute_result"
    }
   ],
   "source": [
    "a"
   ]
  },
  {
   "cell_type": "code",
   "execution_count": 29,
   "metadata": {},
   "outputs": [
    {
     "data": {
      "text/plain": [
       "[(0, 1), (1, 2), (4, 9), (9, 8), (8, 7), (5, 6)]"
      ]
     },
     "execution_count": 29,
     "metadata": {},
     "output_type": "execute_result"
    }
   ],
   "source": [
    "b"
   ]
  },
  {
   "cell_type": "code",
   "execution_count": 38,
   "metadata": {},
   "outputs": [
    {
     "data": {
      "text/plain": [
       "[(0, 1),\n",
       " (1, 2),\n",
       " (1, 3),\n",
       " (1, 4),\n",
       " (2, 5),\n",
       " (2, 6),\n",
       " (3, 4),\n",
       " (4, 9),\n",
       " (5, 6),\n",
       " (5, 9),\n",
       " (6, 9),\n",
       " (7, 8),\n",
       " (8, 9),\n",
       " (0, 1),\n",
       " (1, 2),\n",
       " (4, 9),\n",
       " (9, 8),\n",
       " (8, 7),\n",
       " (5, 6)]"
      ]
     },
     "execution_count": 38,
     "metadata": {},
     "output_type": "execute_result"
    }
   ],
   "source": [
    "graph = a + b\n",
    "graph "
   ]
  },
  {
   "cell_type": "code",
   "execution_count": 35,
   "metadata": {},
   "outputs": [
    {
     "data": {
      "text/plain": [
       "[0, 1, 4, 9, 8, 7, 8, 9, 6, 5, 9, 4, 3, 1, 2, 6, 5, 2, 1, 0]"
      ]
     },
     "execution_count": 35,
     "metadata": {},
     "output_type": "execute_result"
    }
   ],
   "source": [
    "find_eulerian_tour(graph)"
   ]
  },
  {
   "cell_type": "code",
   "execution_count": 74,
   "metadata": {
    "collapsed": true
   },
   "outputs": [],
   "source": [
    "for i in range(len(m)):\n",
    "    for j in range(len(m)):\n",
    "        if i != j and m[i][j] == 0:\n",
    "            m[i][j] = 1000000"
   ]
  },
  {
   "cell_type": "code",
   "execution_count": 75,
   "metadata": {},
   "outputs": [
    {
     "data": {
      "text/plain": [
       "[[0,\n",
       "  1,\n",
       "  1000000,\n",
       "  1000000,\n",
       "  1000000,\n",
       "  1000000,\n",
       "  1000000,\n",
       "  1000000,\n",
       "  1000000,\n",
       "  1000000],\n",
       " [1, 0, 1000000, 5, 9, 1000000, 1000000, 1000000, 1000000, 1000000],\n",
       " [1000000, 1000000, 0, 1000000, 1000000, 6, 7, 1000000, 1000000, 1000000],\n",
       " [1000000, 5, 1000000, 0, 8, 1000000, 1000000, 1000000, 1000000, 1000000],\n",
       " [1000000, 9, 1000000, 8, 0, 1000000, 1000000, 1000000, 1000000, 4],\n",
       " [1000000, 1000000, 6, 1000000, 1000000, 0, 5, 1000000, 1000000, 3],\n",
       " [1000000, 1000000, 7, 1000000, 1000000, 5, 0, 1000000, 1000000, 3],\n",
       " [1000000,\n",
       "  1000000,\n",
       "  1000000,\n",
       "  1000000,\n",
       "  1000000,\n",
       "  1000000,\n",
       "  1000000,\n",
       "  0,\n",
       "  7,\n",
       "  1000000],\n",
       " [1000000, 1000000, 1000000, 1000000, 1000000, 1000000, 1000000, 7, 0, 4],\n",
       " [1000000, 1000000, 1000000, 1000000, 4, 3, 3, 1000000, 4, 0]]"
      ]
     },
     "execution_count": 75,
     "metadata": {},
     "output_type": "execute_result"
    }
   ],
   "source": [
    "m"
   ]
  },
  {
   "cell_type": "code",
   "execution_count": 39,
   "metadata": {
    "collapsed": true
   },
   "outputs": [],
   "source": [
    "SUM = 0\n",
    "for x in range(len(graph)):\n",
    "    SUM = SUM + m[graph[x][0]][graph[x][1]]"
   ]
  },
  {
   "cell_type": "code",
   "execution_count": 40,
   "metadata": {},
   "outputs": [
    {
     "data": {
      "text/plain": [
       "87"
      ]
     },
     "execution_count": 40,
     "metadata": {},
     "output_type": "execute_result"
    }
   ],
   "source": [
    "SUM"
   ]
  },
  {
   "cell_type": "code",
   "execution_count": 41,
   "metadata": {
    "collapsed": true
   },
   "outputs": [],
   "source": [
    "m = [[0]*6]*6"
   ]
  },
  {
   "cell_type": "code",
   "execution_count": 42,
   "metadata": {},
   "outputs": [
    {
     "data": {
      "text/plain": [
       "[[0, 0, 0, 0, 0, 0],\n",
       " [0, 0, 0, 0, 0, 0],\n",
       " [0, 0, 0, 0, 0, 0],\n",
       " [0, 0, 0, 0, 0, 0],\n",
       " [0, 0, 0, 0, 0, 0],\n",
       " [0, 0, 0, 0, 0, 0]]"
      ]
     },
     "execution_count": 42,
     "metadata": {},
     "output_type": "execute_result"
    }
   ],
   "source": [
    "m"
   ]
  },
  {
   "cell_type": "code",
   "execution_count": 70,
   "metadata": {
    "collapsed": true
   },
   "outputs": [],
   "source": [
    "m = [[0, 1, 0, 0, 0, 0, 0, 0, 0, 0],\n",
    " [1, 0, 0, 5, 9, 0, 0, 0, 0, 0],\n",
    " [0, 0, 0, 0, 0, 6, 7, 0, 0, 0],\n",
    " [0, 5, 0, 0, 8, 0, 0, 0, 0, 0],\n",
    " [0, 9, 0, 8, 0, 0, 0, 0, 0, 4],\n",
    " [0, 0, 6, 0, 0, 0, 5, 0, 0, 3],\n",
    " [0, 0, 7, 0, 0, 5, 0, 0, 0, 3],\n",
    " [0, 0, 0, 0, 0, 0, 0, 0, 7, 0],\n",
    " [0, 0, 0, 0, 0, 0, 0, 7, 0, 4],\n",
    " [0, 0, 0, 0, 4, 3, 3, 0, 4, 0]]"
   ]
  },
  {
   "cell_type": "code",
   "execution_count": 76,
   "metadata": {},
   "outputs": [
    {
     "name": "stdout",
     "output_type": "stream",
     "text": [
      "[1000000, 1000000, 1000000, 1000000, 1000000, 1000000, 0, 1000000, 1000000, 1000000]\n",
      "6\n",
      "6->2\n",
      "6->5\n",
      "6->9\n",
      "[1000000, 1000000, 7, 1000000, 1000000, 5, 0, 1000000, 1000000, 3]\n",
      "9\n",
      "9->4\n",
      "9->8\n",
      "[1000000, 1000000, 7, 1000000, 7, 5, 0, 1000000, 7, 3]\n",
      "5\n",
      "[1000000, 1000000, 7, 1000000, 7, 5, 0, 1000000, 7, 3]\n",
      "2\n",
      "[1000000, 1000000, 7, 1000000, 7, 5, 0, 1000000, 7, 3]\n",
      "4\n",
      "4->1\n",
      "4->3\n",
      "[1000000, 16, 7, 15, 7, 5, 0, 1000000, 7, 3]\n",
      "8\n",
      "8->7\n",
      "[1000000, 16, 7, 15, 7, 5, 0, 14, 7, 3]\n",
      "7\n",
      "[1000000, 16, 7, 15, 7, 5, 0, 14, 7, 3]\n",
      "3\n",
      "[1000000, 16, 7, 15, 7, 5, 0, 14, 7, 3]\n",
      "1\n",
      "1->0\n",
      "[17, 16, 7, 15, 7, 5, 0, 14, 7, 3]\n",
      "0\n"
     ]
    },
    {
     "data": {
      "text/plain": [
       "[17, 16, 7, 15, 7, 5, 0, 14, 7, 3]"
      ]
     },
     "execution_count": 76,
     "metadata": {},
     "output_type": "execute_result"
    }
   ],
   "source": [
    "(Dijkstra(n, 6, m))"
   ]
  },
  {
   "cell_type": "code",
   "execution_count": 66,
   "metadata": {},
   "outputs": [],
   "source": [
    "n=10"
   ]
  },
  {
   "cell_type": "code",
   "execution_count": null,
   "metadata": {
    "collapsed": true
   },
   "outputs": [],
   "source": []
  }
 ],
 "metadata": {
  "kernelspec": {
   "display_name": "Python 3",
   "language": "python",
   "name": "python3"
  },
  "language_info": {
   "codemirror_mode": {
    "name": "ipython",
    "version": 3
   },
   "file_extension": ".py",
   "mimetype": "text/x-python",
   "name": "python",
   "nbconvert_exporter": "python",
   "pygments_lexer": "ipython3",
   "version": "3.6.2"
  }
 },
 "nbformat": 4,
 "nbformat_minor": 2
}
